{
 "cells": [
  {
   "cell_type": "markdown",
   "id": "c88e6083-0f88-4d6e-9c61-f7105e4741de",
   "metadata": {},
   "source": [
    "<div style=\"text-align:center;\">\n",
    "    <h1 style=\"font-size: 48px; color: #C78F6D;\">Library Management System</h1>\n",
    "    <hr />\n",
    "    <a href=\"https://linkedin.com/in/willdomkahari\" target=\"blank\"><img align=\"center\" src=\"https://raw.githubusercontent.com/rahuldkjain/github-profile-readme-generator/master/src/images/icons/Social/linked-in-alt.svg\" alt=\"willdomkahari\" height=\"8\" width=\"15\" /></a>\n",
    "    <p style=\"text-align:center; color: #A53429;\"><em>By Willdom Kahari &copy; RITA Africa 2024 </em></p>\n",
    "    <img src=\"https://img.freepik.com/free-photo/front-view-stack-books_23-2148827208.jpg?t=st=1729702449~exp=1729706049~hmac=c31cd114d630c9084b738078570235eb0f698d6a692b9f62a8098b114403baaa&w=1000\" />\n",
    "</div>"
   ]
  },
  {
   "cell_type": "markdown",
   "id": "03892bf2-aecf-47c0-a3c5-d79be5dd7f04",
   "metadata": {},
   "source": [
    "# <div style=\"color:white;display:fill;border-radius:5px;background-color:#C78F6D;overflow:hidden\"><p style=\"padding:20px;color:white;overflow:hidden;font-size:100%;margin:0;text-align:center\">Introduction</p></div>\n",
    "\n",
    "<p style=\"text-align: justify; text-justify: inter-word;\">A library management system (LMS) is a software application that helps libraries manage their collections, services, and users. It typically includes features such as cataloging, circulation, acquisitions, and reporting. In today's digital age, libraries need to adapt to the changing needs of their users. LMS can help libraries meet these needs by providing access to digital resources, offering online services, and promoting collaboration. Additionally, LMS can help libraries manage their collections more effectively and efficiently, ensuring that they remain relevant and valuable resources for their communities.</p>\n",
    "\n",
    "#### Advantages of using an LMS:\n",
    "\n",
    "- `Improved efficiency:` LMS can automate many tasks, such as cataloging, circulation, and acquisitions, saving time and resources.\n",
    "- `Enhanced access:` LMS can provide users with easy access to library collections through online catalogs and other digital tools.\n",
    "- `Better decision-making:` LMS can generate reports and statistics that can help libraries make informed decisions about their collections, services, and operations.\n",
    "- `Increased collaboration:` LMS can facilitate collaboration between libraries and other organizations.\n",
    "\n",
    "#### Code Organization:\n",
    "This program was organised using `modules` and`functions.` `Functions` are self-contained blocks of code that perform a specific task. `Modules` are Python files containing definitions and statements. They are essentially reusable pieces of code that can be called from other parts of your program. By effectively using them, code is more organized, efficient, and maintainable, ultimately improving the quality and reliability of software projects.\n",
    "\n",
    "##### Advantages of using Functions and Modules for organization:\n",
    "\n",
    "1. Modularity and Reusability:\n",
    "    - `Break down complexity:` They divide large programs into smaller, manageable units, making the code easier to understand and maintain.\n",
    "    - `Avoid code duplication:` By defining functions or modules for commonly used tasks, you can reuse them multiple times throughout your program, reducing redundancy and improving efficiency.\n",
    "2. Improved Readability and Maintainability:\n",
    "    - `Clearer structure:` Functions with descriptive names provide a clear overview of the code's purpose, making it easier to follow the logic.\n",
    "    - `Easier debugging:` When a function is isolated, it's simpler to identify and fix errors within its scope.\n",
    "    - `Simplified modifications:` If you need to change the behavior of a specific task, you can modify the function or module directly without affecting other parts of the program.\n",
    "3. Enhanced Organization and Collaboration:\n",
    "    - `Divide and conquer:` Functions and modules allow multiple developers to work on different parts of a program independently.\n",
    "    - `Standardized interfaces:` Well-defined functions with clear input and output parameters create a consistent interface for other parts of the program.\n",
    "    - `Code libraries:` Functions can be packaged into libraries or modules, making them reusable across different projects.\n",
    "4. Efficiency and Performance:\n",
    "    - `Optimization:` Functions can be optimized for specific tasks, leading to improved performance.\n",
    "    - `Caching:` Functions can store results for repeated calls, avoiding unnecessary calculations.\n",
    "5. Abstraction and Encapsulation:\n",
    "    - `Hide implementation details:` Functions can encapsulate complex logic, allowing you to focus on the overall behavior rather than the underlying implementation.\n",
    "    - `Abstraction level:` Functions and modules provide a higher level of abstraction, making code easier to reason about."
   ]
  },
  {
   "cell_type": "code",
   "execution_count": 1,
   "id": "34816648-71aa-4282-b97f-f9cdc48d6eb5",
   "metadata": {
    "ExecuteTime": {
     "end_time": "2024-10-24T06:28:53.551627Z",
     "start_time": "2024-10-24T06:28:53.540339Z"
    },
    "tags": []
   },
   "outputs": [],
   "source": [
    "# Importing necessary modules\n",
    "import libs"
   ]
  },
  {
   "cell_type": "code",
   "execution_count": 2,
   "id": "f3c63c38-b804-4ab2-a0d0-6df50c17dc13",
   "metadata": {
    "ExecuteTime": {
     "end_time": "2024-10-24T06:28:53.565681Z",
     "start_time": "2024-10-24T06:28:53.561640Z"
    },
    "tags": []
   },
   "outputs": [
    {
     "name": "stdout",
     "output_type": "stream",
     "text": [
      "Pre-loading books ...\n",
      "Pre-loading books complete!\n"
     ]
    }
   ],
   "source": [
    "# Initialise the database\n",
    "libs.initialise_db()"
   ]
  },
  {
   "cell_type": "code",
   "execution_count": 3,
   "id": "7c80ef8d-7311-4462-aa2c-3d89bf7b4c1c",
   "metadata": {
    "ExecuteTime": {
     "end_time": "2024-10-24T06:28:53.771198Z",
     "start_time": "2024-10-24T06:28:53.765546Z"
    },
    "tags": []
   },
   "outputs": [],
   "source": [
    "def main():\n",
    "    # Start an infinite loop for the library management system\n",
    "    while True:\n",
    "        print(\"\\nLibrary Management System\")\n",
    "        print(\"1. Add Book\")\n",
    "        print(\"2. Search Book\")\n",
    "        print(\"3. Borrow Book\")\n",
    "        print(\"4. Return Book\")\n",
    "        print(\"5. Exit\")\n",
    "        choice = input(\"Enter your choice: \")\n",
    "        # Handle user choices for library operations\n",
    "        if choice == \"1\":\n",
    "            book_id = input(\"Enter book ID: \")\n",
    "            title = input(\"Enter book title: \")\n",
    "            author = input(\"Enter book author: \")\n",
    "            libs.add_book((book_id.upper(), title.title(), author.title(), True)) # Call function to add a new book\n",
    "        \n",
    "        elif choice == \"2\":\n",
    "            title = input(\"Enter book title to search: \")\n",
    "            libs.search_book(title) # Call function to borrow a book\n",
    "            \n",
    "        elif choice == \"3\":\n",
    "            user = input(\"Enter your name: \")\n",
    "            book_id = input(\"Enter book ID to borrow: \")\n",
    "            libs.borrow_book(user, book_id) # Call function to borrow a book\n",
    "            \n",
    "        elif choice == \"4\":\n",
    "            book_id = input(\"Enter the book ID to return: \")\n",
    "            libs.return_book(book_id) # Call function to return a borrowed book\n",
    "        \n",
    "        elif choice == \"5\":\n",
    "            print(\"Exiting the system. Goodbye!\") # Exit message\n",
    "            libs.close_db()\n",
    "            break # Exit the loop and end the program\n",
    "            \n",
    "        else:\n",
    "            print(\"Invalid choice. Please try again.\") # Handle invalid input"
   ]
  },
  {
   "cell_type": "code",
   "execution_count": 4,
   "id": "c4383370-7361-4578-990b-818847128546",
   "metadata": {
    "ExecuteTime": {
     "end_time": "2024-10-24T06:30:08.498184Z",
     "start_time": "2024-10-24T06:28:53.780354Z"
    },
    "tags": []
   },
   "outputs": [
    {
     "name": "stdout",
     "output_type": "stream",
     "text": [
      "\n",
      "Library Management System\n",
      "1. Add Book\n",
      "2. Search Book\n",
      "3. Borrow Book\n",
      "4. Return Book\n",
      "5. Exit\n"
     ]
    },
    {
     "name": "stdin",
     "output_type": "stream",
     "text": [
      "Enter your choice:  2\n",
      "Enter book title to search:  ben x\n"
     ]
    },
    {
     "name": "stdout",
     "output_type": "stream",
     "text": [
      "ID: 657875784-8, Title: Ben X, Author: Adey Balham, Status: Available\n",
      "\n",
      "Library Management System\n",
      "1. Add Book\n",
      "2. Search Book\n",
      "3. Borrow Book\n",
      "4. Return Book\n",
      "5. Exit\n"
     ]
    },
    {
     "name": "stdin",
     "output_type": "stream",
     "text": [
      "Enter your choice:  3\n",
      "Enter your name:  Willdom\n",
      "Enter book ID to borrow:  657875784-8\n"
     ]
    },
    {
     "name": "stdout",
     "output_type": "stream",
     "text": [
      "Book 'Ben X' borrowed by Willdom.\n",
      "\n",
      "Library Management System\n",
      "1. Add Book\n",
      "2. Search Book\n",
      "3. Borrow Book\n",
      "4. Return Book\n",
      "5. Exit\n"
     ]
    },
    {
     "name": "stdin",
     "output_type": "stream",
     "text": [
      "Enter your choice:  2\n",
      "Enter book title to search:  ben x\n"
     ]
    },
    {
     "name": "stdout",
     "output_type": "stream",
     "text": [
      "ID: 657875784-8, Title: Ben X, Author: Adey Balham, Status: Borrowed\n",
      "\n",
      "Library Management System\n",
      "1. Add Book\n",
      "2. Search Book\n",
      "3. Borrow Book\n",
      "4. Return Book\n",
      "5. Exit\n"
     ]
    },
    {
     "name": "stdin",
     "output_type": "stream",
     "text": [
      "Enter your choice:  4\n",
      "Enter the book ID to return:  657875784-8\n"
     ]
    },
    {
     "name": "stdout",
     "output_type": "stream",
     "text": [
      "Book 'Ben X' returned.\n",
      "\n",
      "Library Management System\n",
      "1. Add Book\n",
      "2. Search Book\n",
      "3. Borrow Book\n",
      "4. Return Book\n",
      "5. Exit\n"
     ]
    },
    {
     "name": "stdin",
     "output_type": "stream",
     "text": [
      "Enter your choice:  2\n",
      "Enter book title to search:  ben x\n"
     ]
    },
    {
     "name": "stdout",
     "output_type": "stream",
     "text": [
      "ID: 657875784-8, Title: Ben X, Author: Adey Balham, Status: Available\n",
      "\n",
      "Library Management System\n",
      "1. Add Book\n",
      "2. Search Book\n",
      "3. Borrow Book\n",
      "4. Return Book\n",
      "5. Exit\n"
     ]
    },
    {
     "name": "stdin",
     "output_type": "stream",
     "text": [
      "Enter your choice:  1\n",
      "Enter book ID:  7845230-F\n",
      "Enter book title:  anything goes\n",
      "Enter book author:  Wadu Clay\n"
     ]
    },
    {
     "name": "stdout",
     "output_type": "stream",
     "text": [
      "\n",
      "Library Management System\n",
      "1. Add Book\n",
      "2. Search Book\n",
      "3. Borrow Book\n",
      "4. Return Book\n",
      "5. Exit\n"
     ]
    },
    {
     "name": "stdin",
     "output_type": "stream",
     "text": [
      "Enter your choice:  2\n",
      "Enter book title to search:  anything goes\n"
     ]
    },
    {
     "name": "stdout",
     "output_type": "stream",
     "text": [
      "ID: 7845230-F, Title: Anything Goes, Author: Wadu Clay, Status: Available\n",
      "\n",
      "Library Management System\n",
      "1. Add Book\n",
      "2. Search Book\n",
      "3. Borrow Book\n",
      "4. Return Book\n",
      "5. Exit\n"
     ]
    },
    {
     "name": "stdin",
     "output_type": "stream",
     "text": [
      "Enter your choice:  5\n"
     ]
    },
    {
     "name": "stdout",
     "output_type": "stream",
     "text": [
      "Exiting the system. Goodbye!\n",
      "Closing database cursor ...\n",
      "Database cursor closed\n",
      "Closing database connection ...\n",
      "Database connection closed\n"
     ]
    }
   ],
   "source": [
    "# Start the Library Management System\n",
    "main()"
   ]
  },
  {
   "cell_type": "markdown",
   "id": "5d5f2721-5370-4445-aa71-f4d9634642df",
   "metadata": {},
   "source": [
    "# <div style=\"color:white;display:fill;border-radius:5px;background-color:#C78F6D;overflow:hidden\"><p style=\"padding:20px;color:white;overflow:hidden;font-size:100%;margin:0;text-align:center\">Conclusion</p></div>\n",
    "\n",
    "#### Key Achievements:\n",
    "\n",
    "- `JSON Data Integration:` The system successfully reads and processes data from JSON files, a common format for data exchange. This enables easy import and export of book information.\n",
    "- `Database Integration:` The system has been integrated with a relational database (SQLite). \n",
    "- `Search Functionality:` Users can efficiently search for books using the title. This enhances the user experience and makes it easier to find desired books.\n",
    "- `Book Addition:` The system allows for the addition of new books to the library catalog. This ensures that the collection remains up-to-date and relevant.\n",
    "- `Borrowing and Returning Books:` The system facilitates the borrowing and returning process. This streamlines library operations and improves user satisfaction.\n",
    "\n",
    "#### Future Improvements:\n",
    "\n",
    "- `Reservation System:` Implement a reservation system to allow users to reserve books that are currently checked out.\n",
    "- `Recommendation Engine:` Develop a recommendation engine that suggests books based on users' borrowing history and preferences.\n",
    "- `Mobile App:` Create a mobile app for the library management system to provide users with convenient access on the go.\n",
    "- `Online Catalog:` Enhance the online catalog with additional features, such as advanced search options and personalized user profiles.\n",
    "- `Integration with Other Systems:` Explore integration with other systems, such as library interloan networks or online payment gateways.\n",
    "<br /> By addressing these future improvements, the library management system can continue to evolve and provide even better services to its users."
   ]
  },
  {
   "cell_type": "code",
   "execution_count": null,
   "id": "d7e7c0f6-5114-4814-aa76-0bf3673804e3",
   "metadata": {},
   "outputs": [],
   "source": []
  }
 ],
 "metadata": {
  "kernelspec": {
   "display_name": "Python 3 (ipykernel)",
   "language": "python",
   "name": "python3"
  },
  "language_info": {
   "codemirror_mode": {
    "name": "ipython",
    "version": 3
   },
   "file_extension": ".py",
   "mimetype": "text/x-python",
   "name": "python",
   "nbconvert_exporter": "python",
   "pygments_lexer": "ipython3",
   "version": "3.12.6"
  }
 },
 "nbformat": 4,
 "nbformat_minor": 5
}
